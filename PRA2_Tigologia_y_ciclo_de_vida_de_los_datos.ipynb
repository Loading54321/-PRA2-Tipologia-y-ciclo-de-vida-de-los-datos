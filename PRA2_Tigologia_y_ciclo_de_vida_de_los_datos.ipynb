{
  "nbformat": 4,
  "nbformat_minor": 0,
  "metadata": {
    "colab": {
      "provenance": []
    },
    "kernelspec": {
      "name": "python3",
      "display_name": "Python 3"
    },
    "language_info": {
      "name": "python"
    }
  },
  "cells": [
    {
      "cell_type": "markdown",
      "source": [
        "# **1. Selección de dataset**"
      ],
      "metadata": {
        "id": "NCajNgfQCnp8"
      }
    },
    {
      "cell_type": "markdown",
      "source": [
        "Para la presente práctica, se decide   elegir el dataset \"German Credit Risk\" que se encuentra en el siguiente enlace. https://www.kaggle.com/datasets/kabure/german-credit-data-with-risk?select=german_credit_data.csv  y que contiene 11 columnas con 5  variables numéricas y  6 variables categóricas. \n",
        "\n",
        "\n",
        "El dataset presenta datos  que permiten identificar las diferentes variables que afectan a un cliente que solicita un credito nte una entidad financiera. "
      ],
      "metadata": {
        "id": "16b76o1uCy4j"
      }
    },
    {
      "cell_type": "markdown",
      "source": [
        "### **Descripción del dataset** "
      ],
      "metadata": {
        "id": "DoJAZQnYD1XB"
      }
    },
    {
      "cell_type": "markdown",
      "source": [
        "El dataset contiene los siguientes campos: \n",
        "\n",
        "*  Age : Edad del solicitante.\n",
        "*  Sex : Sexo del solicitante.\n",
        "*  Job :  Ocupacion y cantidad de trabajos.\n",
        "*  Housing: Tipo de alojamiento del solicitante.\n",
        "*  Saving accounts: Tipo de cuenta  de ahorro del solicitante\n",
        "*  Checking account: Tipo de cuenta de cheques del solicitante.\n",
        "*  Credit amount: Monto del credito.\n",
        "*  Duration: Duracion.\n",
        "*  Purpose: Proposito del credito. \n",
        "*  Risk: Presenta el riesgo del solicitante.\n",
        "\n"
      ],
      "metadata": {
        "id": "36bQhQS2D8fN"
      }
    },
    {
      "cell_type": "markdown",
      "source": [
        "### **Problema a resolver** "
      ],
      "metadata": {
        "id": "j4GuLLDGGhYA"
      }
    },
    {
      "cell_type": "markdown",
      "source": [
        "Teniendo en cuenta el dataset y la información que contiene, se propone como problema a resolver, hacer una revisión detallada de los clientes que solicitan un crédito, con el fin de hacer un análisis descriptivo inicialmente, y posteriormente una regresión logística que permita clasificar los créditos que no se pagarán y lo que se pagarán, según su clasificación de riesgo."
      ],
      "metadata": {
        "id": "tJEXWv99GpOZ"
      }
    },
    {
      "cell_type": "markdown",
      "source": [
        "### **Carga del dataset**"
      ],
      "metadata": {
        "id": "zqzhEhF8HcCE"
      }
    },
    {
      "cell_type": "code",
      "source": [
        "# Importar librerias que se van a usar durante el proyecto. \n",
        "import pandas as pd\n",
        "import numpy as np\n",
        "import matplotlib.pyplot as plt\n",
        "import seaborn as sn\n",
        "import plotly.express as px"
      ],
      "metadata": {
        "id": "cYHFW2DgHYWA"
      },
      "execution_count": null,
      "outputs": []
    },
    {
      "cell_type": "code",
      "source": [
        "#Carga del dataset\n",
        "url = \"https://docs.google.com/spreadsheets/d/e/2PACX-1vSbj-qyQj2bBOBCLvFbiSTYEjP_y0_EmqdSrfl-9cBVO2w40729laXOp4sV-rb9FN_v3JLRgrzEEewL/pub?output=csv\"\n",
        "german_credit_data = pd.read_csv(url,sep=',')\n",
        "german_credit_data.head(3)"
      ],
      "metadata": {
        "colab": {
          "base_uri": "https://localhost:8080/",
          "height": 225
        },
        "id": "v28Toc4WHjqM",
        "outputId": "65f44531-ed29-47da-c484-95ec2b19f06d"
      },
      "execution_count": null,
      "outputs": [
        {
          "output_type": "execute_result",
          "data": {
            "text/plain": [
              "   Unnamed: 0  Age     Sex  Job Housing Saving accounts Checking account  \\\n",
              "0           0   67    male    2     own             NaN           little   \n",
              "1           1   22  female    2     own          little         moderate   \n",
              "2           2   49    male    1     own          little              NaN   \n",
              "\n",
              "   Credit amount  Duration    Purpose  Risk  \n",
              "0           1169         6   radio/TV  good  \n",
              "1           5951        48   radio/TV   bad  \n",
              "2           2096        12  education  good  "
            ],
            "text/html": [
              "\n",
              "  <div id=\"df-255d8158-3bbd-4836-ae74-eb0d6e707558\">\n",
              "    <div class=\"colab-df-container\">\n",
              "      <div>\n",
              "<style scoped>\n",
              "    .dataframe tbody tr th:only-of-type {\n",
              "        vertical-align: middle;\n",
              "    }\n",
              "\n",
              "    .dataframe tbody tr th {\n",
              "        vertical-align: top;\n",
              "    }\n",
              "\n",
              "    .dataframe thead th {\n",
              "        text-align: right;\n",
              "    }\n",
              "</style>\n",
              "<table border=\"1\" class=\"dataframe\">\n",
              "  <thead>\n",
              "    <tr style=\"text-align: right;\">\n",
              "      <th></th>\n",
              "      <th>Unnamed: 0</th>\n",
              "      <th>Age</th>\n",
              "      <th>Sex</th>\n",
              "      <th>Job</th>\n",
              "      <th>Housing</th>\n",
              "      <th>Saving accounts</th>\n",
              "      <th>Checking account</th>\n",
              "      <th>Credit amount</th>\n",
              "      <th>Duration</th>\n",
              "      <th>Purpose</th>\n",
              "      <th>Risk</th>\n",
              "    </tr>\n",
              "  </thead>\n",
              "  <tbody>\n",
              "    <tr>\n",
              "      <th>0</th>\n",
              "      <td>0</td>\n",
              "      <td>67</td>\n",
              "      <td>male</td>\n",
              "      <td>2</td>\n",
              "      <td>own</td>\n",
              "      <td>NaN</td>\n",
              "      <td>little</td>\n",
              "      <td>1169</td>\n",
              "      <td>6</td>\n",
              "      <td>radio/TV</td>\n",
              "      <td>good</td>\n",
              "    </tr>\n",
              "    <tr>\n",
              "      <th>1</th>\n",
              "      <td>1</td>\n",
              "      <td>22</td>\n",
              "      <td>female</td>\n",
              "      <td>2</td>\n",
              "      <td>own</td>\n",
              "      <td>little</td>\n",
              "      <td>moderate</td>\n",
              "      <td>5951</td>\n",
              "      <td>48</td>\n",
              "      <td>radio/TV</td>\n",
              "      <td>bad</td>\n",
              "    </tr>\n",
              "    <tr>\n",
              "      <th>2</th>\n",
              "      <td>2</td>\n",
              "      <td>49</td>\n",
              "      <td>male</td>\n",
              "      <td>1</td>\n",
              "      <td>own</td>\n",
              "      <td>little</td>\n",
              "      <td>NaN</td>\n",
              "      <td>2096</td>\n",
              "      <td>12</td>\n",
              "      <td>education</td>\n",
              "      <td>good</td>\n",
              "    </tr>\n",
              "  </tbody>\n",
              "</table>\n",
              "</div>\n",
              "      <button class=\"colab-df-convert\" onclick=\"convertToInteractive('df-255d8158-3bbd-4836-ae74-eb0d6e707558')\"\n",
              "              title=\"Convert this dataframe to an interactive table.\"\n",
              "              style=\"display:none;\">\n",
              "        \n",
              "  <svg xmlns=\"http://www.w3.org/2000/svg\" height=\"24px\"viewBox=\"0 0 24 24\"\n",
              "       width=\"24px\">\n",
              "    <path d=\"M0 0h24v24H0V0z\" fill=\"none\"/>\n",
              "    <path d=\"M18.56 5.44l.94 2.06.94-2.06 2.06-.94-2.06-.94-.94-2.06-.94 2.06-2.06.94zm-11 1L8.5 8.5l.94-2.06 2.06-.94-2.06-.94L8.5 2.5l-.94 2.06-2.06.94zm10 10l.94 2.06.94-2.06 2.06-.94-2.06-.94-.94-2.06-.94 2.06-2.06.94z\"/><path d=\"M17.41 7.96l-1.37-1.37c-.4-.4-.92-.59-1.43-.59-.52 0-1.04.2-1.43.59L10.3 9.45l-7.72 7.72c-.78.78-.78 2.05 0 2.83L4 21.41c.39.39.9.59 1.41.59.51 0 1.02-.2 1.41-.59l7.78-7.78 2.81-2.81c.8-.78.8-2.07 0-2.86zM5.41 20L4 18.59l7.72-7.72 1.47 1.35L5.41 20z\"/>\n",
              "  </svg>\n",
              "      </button>\n",
              "      \n",
              "  <style>\n",
              "    .colab-df-container {\n",
              "      display:flex;\n",
              "      flex-wrap:wrap;\n",
              "      gap: 12px;\n",
              "    }\n",
              "\n",
              "    .colab-df-convert {\n",
              "      background-color: #E8F0FE;\n",
              "      border: none;\n",
              "      border-radius: 50%;\n",
              "      cursor: pointer;\n",
              "      display: none;\n",
              "      fill: #1967D2;\n",
              "      height: 32px;\n",
              "      padding: 0 0 0 0;\n",
              "      width: 32px;\n",
              "    }\n",
              "\n",
              "    .colab-df-convert:hover {\n",
              "      background-color: #E2EBFA;\n",
              "      box-shadow: 0px 1px 2px rgba(60, 64, 67, 0.3), 0px 1px 3px 1px rgba(60, 64, 67, 0.15);\n",
              "      fill: #174EA6;\n",
              "    }\n",
              "\n",
              "    [theme=dark] .colab-df-convert {\n",
              "      background-color: #3B4455;\n",
              "      fill: #D2E3FC;\n",
              "    }\n",
              "\n",
              "    [theme=dark] .colab-df-convert:hover {\n",
              "      background-color: #434B5C;\n",
              "      box-shadow: 0px 1px 3px 1px rgba(0, 0, 0, 0.15);\n",
              "      filter: drop-shadow(0px 1px 2px rgba(0, 0, 0, 0.3));\n",
              "      fill: #FFFFFF;\n",
              "    }\n",
              "  </style>\n",
              "\n",
              "      <script>\n",
              "        const buttonEl =\n",
              "          document.querySelector('#df-255d8158-3bbd-4836-ae74-eb0d6e707558 button.colab-df-convert');\n",
              "        buttonEl.style.display =\n",
              "          google.colab.kernel.accessAllowed ? 'block' : 'none';\n",
              "\n",
              "        async function convertToInteractive(key) {\n",
              "          const element = document.querySelector('#df-255d8158-3bbd-4836-ae74-eb0d6e707558');\n",
              "          const dataTable =\n",
              "            await google.colab.kernel.invokeFunction('convertToInteractive',\n",
              "                                                     [key], {});\n",
              "          if (!dataTable) return;\n",
              "\n",
              "          const docLinkHtml = 'Like what you see? Visit the ' +\n",
              "            '<a target=\"_blank\" href=https://colab.research.google.com/notebooks/data_table.ipynb>data table notebook</a>'\n",
              "            + ' to learn more about interactive tables.';\n",
              "          element.innerHTML = '';\n",
              "          dataTable['output_type'] = 'display_data';\n",
              "          await google.colab.output.renderOutput(dataTable, element);\n",
              "          const docLink = document.createElement('div');\n",
              "          docLink.innerHTML = docLinkHtml;\n",
              "          element.appendChild(docLink);\n",
              "        }\n",
              "      </script>\n",
              "    </div>\n",
              "  </div>\n",
              "  "
            ]
          },
          "metadata": {},
          "execution_count": 41
        }
      ]
    },
    {
      "cell_type": "markdown",
      "source": [
        "*  **Tipos de datos**\n",
        "\n"
      ],
      "metadata": {
        "id": "mOx6CP6Erfmx"
      }
    },
    {
      "cell_type": "code",
      "source": [
        "#Resumen del dataframe y tipos de datos que contiene. \n",
        "#En este caso vemos 4 variables categoricas (object) y 6 variables numericas (int64).\n",
        "german_credit_data.info()"
      ],
      "metadata": {
        "id": "Mzsu_POeII15",
        "colab": {
          "base_uri": "https://localhost:8080/"
        },
        "outputId": "ec3e3221-3369-4150-c2ab-bf3c45e1e04b"
      },
      "execution_count": null,
      "outputs": [
        {
          "output_type": "stream",
          "name": "stdout",
          "text": [
            "<class 'pandas.core.frame.DataFrame'>\n",
            "RangeIndex: 1000 entries, 0 to 999\n",
            "Data columns (total 11 columns):\n",
            " #   Column            Non-Null Count  Dtype \n",
            "---  ------            --------------  ----- \n",
            " 0   Unnamed: 0        1000 non-null   int64 \n",
            " 1   Age               1000 non-null   int64 \n",
            " 2   Sex               1000 non-null   object\n",
            " 3   Job               1000 non-null   int64 \n",
            " 4   Housing           1000 non-null   object\n",
            " 5   Saving accounts   817 non-null    object\n",
            " 6   Checking account  606 non-null    object\n",
            " 7   Credit amount     1000 non-null   int64 \n",
            " 8   Duration          1000 non-null   int64 \n",
            " 9   Purpose           1000 non-null   object\n",
            " 10  Risk              1000 non-null   object\n",
            "dtypes: int64(5), object(6)\n",
            "memory usage: 86.1+ KB\n"
          ]
        }
      ]
    },
    {
      "cell_type": "markdown",
      "source": [
        "### **2. Integración y selección**"
      ],
      "metadata": {
        "id": "wHVZzRxsIG1q"
      }
    },
    {
      "cell_type": "markdown",
      "source": [
        "El dataset no requiere de la integracion de nuevas columnas o combinación con otros datasets."
      ],
      "metadata": {
        "id": "x95R3qrFuaU6"
      }
    },
    {
      "cell_type": "markdown",
      "source": [
        "### **3. limpieza de datos**"
      ],
      "metadata": {
        "id": "UR_Zy3XXqHtm"
      }
    },
    {
      "cell_type": "markdown",
      "source": [
        "* **Para iniciar la limpieza primero se revisan los valores nulos.**\n",
        "\n"
      ],
      "metadata": {
        "id": "JddYuVGlgZzz"
      }
    },
    {
      "cell_type": "code",
      "source": [
        "# Verificación de campos nulos en cada columna.\n",
        "# Se encuentra que Saving accounts  y  Checking account existen valores nulos.\n",
        "german_credit_data.isnull().any()"
      ],
      "metadata": {
        "id": "LYMSrI4VkqwJ",
        "colab": {
          "base_uri": "https://localhost:8080/"
        },
        "outputId": "ad7ad27d-0f89-4dea-d3e5-1d1af606ac6f"
      },
      "execution_count": null,
      "outputs": [
        {
          "output_type": "execute_result",
          "data": {
            "text/plain": [
              "Unnamed: 0          False\n",
              "Age                 False\n",
              "Sex                 False\n",
              "Job                 False\n",
              "Housing             False\n",
              "Saving accounts      True\n",
              "Checking account     True\n",
              "Credit amount       False\n",
              "Duration            False\n",
              "Purpose             False\n",
              "Risk                False\n",
              "dtype: bool"
            ]
          },
          "metadata": {},
          "execution_count": 4
        }
      ]
    },
    {
      "cell_type": "code",
      "source": [
        "# Procedemos a verificar la cantidad de valores nulos por columnas.\n",
        "german_credit_data.isnull().sum()"
      ],
      "metadata": {
        "id": "3Ll5kC2uV7g2",
        "colab": {
          "base_uri": "https://localhost:8080/"
        },
        "outputId": "c9f42ed3-a59d-4c70-a68a-f10c92aab882"
      },
      "execution_count": null,
      "outputs": [
        {
          "output_type": "execute_result",
          "data": {
            "text/plain": [
              "Unnamed: 0            0\n",
              "Age                   0\n",
              "Sex                   0\n",
              "Job                   0\n",
              "Housing               0\n",
              "Saving accounts     183\n",
              "Checking account    394\n",
              "Credit amount         0\n",
              "Duration              0\n",
              "Purpose               0\n",
              "Risk                  0\n",
              "dtype: int64"
            ]
          },
          "metadata": {},
          "execution_count": 5
        }
      ]
    },
    {
      "cell_type": "markdown",
      "source": [
        "* **Reemplazo de valores nulos**"
      ],
      "metadata": {
        "id": "Ne6hbQnAhdOX"
      }
    },
    {
      "cell_type": "markdown",
      "source": [
        "Existen valores nulos para reemplazar.\n",
        "\n"
      ],
      "metadata": {
        "id": "HuHLP6gRvl11"
      }
    },
    {
      "cell_type": "code",
      "source": [
        "#  las columas Saving accounts y Chekings accounts reciben tratamiento, eliminando los valores nulos \n",
        "# reemplazando dichos valores por Little.\n",
        "german_credit_data['Saving accounts'].replace(np.nan,'little',inplace=True)\n",
        "german_credit_data['Checking account'].replace(np.nan,'little',inplace=True)\n",
        "german_credit_data.sample(3)"
      ],
      "metadata": {
        "id": "j6hUIoONGzyB",
        "colab": {
          "base_uri": "https://localhost:8080/",
          "height": 225
        },
        "outputId": "3b82b40c-5f98-45bc-ab4e-f84c7244f79f"
      },
      "execution_count": null,
      "outputs": [
        {
          "output_type": "execute_result",
          "data": {
            "text/plain": [
              "     Unnamed: 0  Age   Sex  Job Housing Saving accounts Checking account  \\\n",
              "626         626   41  male    2     own          little             rich   \n",
              "452         452   34  male    2     own          little           little   \n",
              "907         907   27  male    2     own          little         moderate   \n",
              "\n",
              "     Credit amount  Duration              Purpose  Risk  \n",
              "626           2116         6  furniture/equipment  good  \n",
              "452           2759        12  furniture/equipment  good  \n",
              "907           3711        36            education  good  "
            ],
            "text/html": [
              "\n",
              "  <div id=\"df-1a4380e4-47b0-49e1-9fd1-7d5ddf51a9ec\">\n",
              "    <div class=\"colab-df-container\">\n",
              "      <div>\n",
              "<style scoped>\n",
              "    .dataframe tbody tr th:only-of-type {\n",
              "        vertical-align: middle;\n",
              "    }\n",
              "\n",
              "    .dataframe tbody tr th {\n",
              "        vertical-align: top;\n",
              "    }\n",
              "\n",
              "    .dataframe thead th {\n",
              "        text-align: right;\n",
              "    }\n",
              "</style>\n",
              "<table border=\"1\" class=\"dataframe\">\n",
              "  <thead>\n",
              "    <tr style=\"text-align: right;\">\n",
              "      <th></th>\n",
              "      <th>Unnamed: 0</th>\n",
              "      <th>Age</th>\n",
              "      <th>Sex</th>\n",
              "      <th>Job</th>\n",
              "      <th>Housing</th>\n",
              "      <th>Saving accounts</th>\n",
              "      <th>Checking account</th>\n",
              "      <th>Credit amount</th>\n",
              "      <th>Duration</th>\n",
              "      <th>Purpose</th>\n",
              "      <th>Risk</th>\n",
              "    </tr>\n",
              "  </thead>\n",
              "  <tbody>\n",
              "    <tr>\n",
              "      <th>626</th>\n",
              "      <td>626</td>\n",
              "      <td>41</td>\n",
              "      <td>male</td>\n",
              "      <td>2</td>\n",
              "      <td>own</td>\n",
              "      <td>little</td>\n",
              "      <td>rich</td>\n",
              "      <td>2116</td>\n",
              "      <td>6</td>\n",
              "      <td>furniture/equipment</td>\n",
              "      <td>good</td>\n",
              "    </tr>\n",
              "    <tr>\n",
              "      <th>452</th>\n",
              "      <td>452</td>\n",
              "      <td>34</td>\n",
              "      <td>male</td>\n",
              "      <td>2</td>\n",
              "      <td>own</td>\n",
              "      <td>little</td>\n",
              "      <td>little</td>\n",
              "      <td>2759</td>\n",
              "      <td>12</td>\n",
              "      <td>furniture/equipment</td>\n",
              "      <td>good</td>\n",
              "    </tr>\n",
              "    <tr>\n",
              "      <th>907</th>\n",
              "      <td>907</td>\n",
              "      <td>27</td>\n",
              "      <td>male</td>\n",
              "      <td>2</td>\n",
              "      <td>own</td>\n",
              "      <td>little</td>\n",
              "      <td>moderate</td>\n",
              "      <td>3711</td>\n",
              "      <td>36</td>\n",
              "      <td>education</td>\n",
              "      <td>good</td>\n",
              "    </tr>\n",
              "  </tbody>\n",
              "</table>\n",
              "</div>\n",
              "      <button class=\"colab-df-convert\" onclick=\"convertToInteractive('df-1a4380e4-47b0-49e1-9fd1-7d5ddf51a9ec')\"\n",
              "              title=\"Convert this dataframe to an interactive table.\"\n",
              "              style=\"display:none;\">\n",
              "        \n",
              "  <svg xmlns=\"http://www.w3.org/2000/svg\" height=\"24px\"viewBox=\"0 0 24 24\"\n",
              "       width=\"24px\">\n",
              "    <path d=\"M0 0h24v24H0V0z\" fill=\"none\"/>\n",
              "    <path d=\"M18.56 5.44l.94 2.06.94-2.06 2.06-.94-2.06-.94-.94-2.06-.94 2.06-2.06.94zm-11 1L8.5 8.5l.94-2.06 2.06-.94-2.06-.94L8.5 2.5l-.94 2.06-2.06.94zm10 10l.94 2.06.94-2.06 2.06-.94-2.06-.94-.94-2.06-.94 2.06-2.06.94z\"/><path d=\"M17.41 7.96l-1.37-1.37c-.4-.4-.92-.59-1.43-.59-.52 0-1.04.2-1.43.59L10.3 9.45l-7.72 7.72c-.78.78-.78 2.05 0 2.83L4 21.41c.39.39.9.59 1.41.59.51 0 1.02-.2 1.41-.59l7.78-7.78 2.81-2.81c.8-.78.8-2.07 0-2.86zM5.41 20L4 18.59l7.72-7.72 1.47 1.35L5.41 20z\"/>\n",
              "  </svg>\n",
              "      </button>\n",
              "      \n",
              "  <style>\n",
              "    .colab-df-container {\n",
              "      display:flex;\n",
              "      flex-wrap:wrap;\n",
              "      gap: 12px;\n",
              "    }\n",
              "\n",
              "    .colab-df-convert {\n",
              "      background-color: #E8F0FE;\n",
              "      border: none;\n",
              "      border-radius: 50%;\n",
              "      cursor: pointer;\n",
              "      display: none;\n",
              "      fill: #1967D2;\n",
              "      height: 32px;\n",
              "      padding: 0 0 0 0;\n",
              "      width: 32px;\n",
              "    }\n",
              "\n",
              "    .colab-df-convert:hover {\n",
              "      background-color: #E2EBFA;\n",
              "      box-shadow: 0px 1px 2px rgba(60, 64, 67, 0.3), 0px 1px 3px 1px rgba(60, 64, 67, 0.15);\n",
              "      fill: #174EA6;\n",
              "    }\n",
              "\n",
              "    [theme=dark] .colab-df-convert {\n",
              "      background-color: #3B4455;\n",
              "      fill: #D2E3FC;\n",
              "    }\n",
              "\n",
              "    [theme=dark] .colab-df-convert:hover {\n",
              "      background-color: #434B5C;\n",
              "      box-shadow: 0px 1px 3px 1px rgba(0, 0, 0, 0.15);\n",
              "      filter: drop-shadow(0px 1px 2px rgba(0, 0, 0, 0.3));\n",
              "      fill: #FFFFFF;\n",
              "    }\n",
              "  </style>\n",
              "\n",
              "      <script>\n",
              "        const buttonEl =\n",
              "          document.querySelector('#df-1a4380e4-47b0-49e1-9fd1-7d5ddf51a9ec button.colab-df-convert');\n",
              "        buttonEl.style.display =\n",
              "          google.colab.kernel.accessAllowed ? 'block' : 'none';\n",
              "\n",
              "        async function convertToInteractive(key) {\n",
              "          const element = document.querySelector('#df-1a4380e4-47b0-49e1-9fd1-7d5ddf51a9ec');\n",
              "          const dataTable =\n",
              "            await google.colab.kernel.invokeFunction('convertToInteractive',\n",
              "                                                     [key], {});\n",
              "          if (!dataTable) return;\n",
              "\n",
              "          const docLinkHtml = 'Like what you see? Visit the ' +\n",
              "            '<a target=\"_blank\" href=https://colab.research.google.com/notebooks/data_table.ipynb>data table notebook</a>'\n",
              "            + ' to learn more about interactive tables.';\n",
              "          element.innerHTML = '';\n",
              "          dataTable['output_type'] = 'display_data';\n",
              "          await google.colab.output.renderOutput(dataTable, element);\n",
              "          const docLink = document.createElement('div');\n",
              "          docLink.innerHTML = docLinkHtml;\n",
              "          element.appendChild(docLink);\n",
              "        }\n",
              "      </script>\n",
              "    </div>\n",
              "  </div>\n",
              "  "
            ]
          },
          "metadata": {},
          "execution_count": 42
        }
      ]
    },
    {
      "cell_type": "markdown",
      "source": [
        "*   **Elementos vacios**"
      ],
      "metadata": {
        "id": "Fk0lZoERLIzH"
      }
    },
    {
      "cell_type": "code",
      "source": [
        "# Se procede a revisar si existen elementos vacios dentro del dataframe.\n",
        "# Dando como resultado que no existe ninguno. \n",
        "german_credit_data.empty"
      ],
      "metadata": {
        "id": "gnpIscXvLFPH",
        "colab": {
          "base_uri": "https://localhost:8080/"
        },
        "outputId": "a8f89743-349b-4e11-e808-152f38ed3414"
      },
      "execution_count": null,
      "outputs": [
        {
          "output_type": "execute_result",
          "data": {
            "text/plain": [
              "False"
            ]
          },
          "metadata": {},
          "execution_count": 7
        }
      ]
    },
    {
      "cell_type": "markdown",
      "source": [
        "*   **Deteccion de valores extremos**\n",
        "\n",
        "\n",
        "\n",
        "\n"
      ],
      "metadata": {
        "id": "YyxudgH6EILB"
      }
    },
    {
      "cell_type": "markdown",
      "source": [
        "Se identifican valores extremos de las variables numericas."
      ],
      "metadata": {
        "id": "pDNTimlMTwyZ"
      }
    },
    {
      "cell_type": "code",
      "source": [
        "# La variable Job no se reviso debido a que tenía los datos clasificados en 4 grupos y el gráfico \n",
        "#no iba a mostrar valores extemos representantivos.\n",
        "# Mientras que las otras columnas numericas tenian valores que podrian variar dependiendo del candidato.\n",
        "german_credit_data= german_credit_data.rename(columns={'Credit amount':'Credit_amount'})\n",
        "german_credit_data.columns\n",
        "plt.subplot(2,2,1)\n",
        "sn.boxplot(german_credit_data.Age)\n",
        "plt.legend()\n",
        "plt.subplot(2,2,2)\n",
        "sn.boxplot(german_credit_data.Duration)\n",
        "plt.legend()\n",
        "plt.subplot(2,2,3)\n",
        "sn.boxplot(german_credit_data.Credit_amount)\n",
        "plt.legend()\n",
        "plt.tight_layout()\n",
        "plt.show()\n",
        "#Al revisar los valores que se encuentran dentro de las solicitudes de crédito, \n",
        "#vemos que son valores que se pueden dar sin problema, debido a que la edad de los solicitande puede ser variada, \n",
        "#y la duración y el monto del crédito también varia dependiendo de las necesidades de las personas.Por lo cual, si se hiciera \n",
        "#un tratamiento para limitar los valores extremos, se perdería información importante. "
      ],
      "metadata": {
        "id": "_bx6cxxNkhA7",
        "colab": {
          "base_uri": "https://localhost:8080/",
          "height": 473
        },
        "outputId": "e13347af-c3c2-4a28-8d5d-222cead8b063"
      },
      "execution_count": null,
      "outputs": [
        {
          "output_type": "stream",
          "name": "stderr",
          "text": [
            "/usr/local/lib/python3.8/dist-packages/seaborn/_decorators.py:36: FutureWarning: Pass the following variable as a keyword arg: x. From version 0.12, the only valid positional argument will be `data`, and passing other arguments without an explicit keyword will result in an error or misinterpretation.\n",
            "  warnings.warn(\n",
            "WARNING:matplotlib.legend:No handles with labels found to put in legend.\n",
            "/usr/local/lib/python3.8/dist-packages/seaborn/_decorators.py:36: FutureWarning: Pass the following variable as a keyword arg: x. From version 0.12, the only valid positional argument will be `data`, and passing other arguments without an explicit keyword will result in an error or misinterpretation.\n",
            "  warnings.warn(\n",
            "WARNING:matplotlib.legend:No handles with labels found to put in legend.\n",
            "/usr/local/lib/python3.8/dist-packages/seaborn/_decorators.py:36: FutureWarning: Pass the following variable as a keyword arg: x. From version 0.12, the only valid positional argument will be `data`, and passing other arguments without an explicit keyword will result in an error or misinterpretation.\n",
            "  warnings.warn(\n",
            "WARNING:matplotlib.legend:No handles with labels found to put in legend.\n"
          ]
        },
        {
          "output_type": "display_data",
          "data": {
            "text/plain": [
              "<Figure size 432x288 with 3 Axes>"
            ],
            "image/png": "[encoded data removed]"
          },
          "metadata": {
            "needs_background": "light"
          }
        }
      ]
    },
    {
      "cell_type": "markdown",
      "source": [
        "* **Exportar los datos en un fichero csv**\n",
        "\n",
        "Con las modificaciones hechas al dataset (cambiar los valores nulos), se genera un nuevo dataset para continuar con el trabajo."
      ],
      "metadata": {
        "id": "bsGYpe0ju8St"
      }
    },
    {
      "cell_type": "code",
      "source": [
        "german_credit_data.to_csv('german_credit.csv')"
      ],
      "metadata": {
        "id": "PAV2juOdu36o"
      },
      "execution_count": null,
      "outputs": []
    },
    {
      "cell_type": "markdown",
      "source": [
        "### **4. Análisis de los datos.**\n",
        "\n",
        "Para hacer un analisis de estos datos, iniciamos con un analisis exploratorio, por medio de un analisis descriptivo que nos hacer una revision de los datos de manera rapida y ver que variables aparte de las \n",
        "numericas mencionadas anteriomente pueden ser importantes."
      ],
      "metadata": {
        "id": "DEt4g7WoqLZr"
      }
    },
    {
      "cell_type": "code",
      "source": [
        "# Vemos que de los 1000 registros,  700 son de Hombres, mientras 300 son de mujeres. \n",
        "plt.title('charts of german credit')\n",
        "sn.countplot(german_credit_data.Sex)\n",
        "plt.legend()"
      ],
      "metadata": {
        "id": "NcCnrBcRFiOm",
        "colab": {
          "base_uri": "https://localhost:8080/",
          "height": 384
        },
        "outputId": "473ef966-f22b-4c23-e12b-c18462b70551"
      },
      "execution_count": null,
      "outputs": [
        {
          "output_type": "stream",
          "name": "stderr",
          "text": [
            "/usr/local/lib/python3.8/dist-packages/seaborn/_decorators.py:36: FutureWarning: Pass the following variable as a keyword arg: x. From version 0.12, the only valid positional argument will be `data`, and passing other arguments without an explicit keyword will result in an error or misinterpretation.\n",
            "  warnings.warn(\n",
            "WARNING:matplotlib.legend:No handles with labels found to put in legend.\n"
          ]
        },
        {
          "output_type": "execute_result",
          "data": {
            "text/plain": [
              "<matplotlib.legend.Legend at 0x7f9bf3773fa0>"
            ]
          },
          "metadata": {},
          "execution_count": 10
        },
        {
          "output_type": "display_data",
          "data": {
            "text/plain": [
              "<Figure size 432x288 with 1 Axes>"
            ],
            "image/png": "[encoded data removed]"
          },
          "metadata": {
            "needs_background": "light"
          }
        }
      ]
    },
    {
      "cell_type": "code",
      "source": [
        "#Se muestra un patron similar entre el riesgo de los hombres y las mujeres en cuanto al riesgo.\n",
        "plt.title('charts of german credit')\n",
        "sn.countplot(data=german_credit_data, x='Risk',hue='Sex')\n",
        "plt.legend()"
      ],
      "metadata": {
        "id": "6v2F9bjduh57",
        "colab": {
          "base_uri": "https://localhost:8080/",
          "height": 312
        },
        "outputId": "ea29a8c4-4cea-4ef5-829c-cfb062c76451"
      },
      "execution_count": null,
      "outputs": [
        {
          "output_type": "execute_result",
          "data": {
            "text/plain": [
              "<matplotlib.legend.Legend at 0x7f9bf32b94f0>"
            ]
          },
          "metadata": {},
          "execution_count": 11
        },
        {
          "output_type": "display_data",
          "data": {
            "text/plain": [
              "<Figure size 432x288 with 1 Axes>"
            ],
            "image/png": "[encoded data removed]"
          },
          "metadata": {
            "needs_background": "light"
          }
        }
      ]
    },
    {
      "cell_type": "code",
      "source": [
        "plt.title('charts of german credit')\n",
        "sn.countplot(data=german_credit_data, x='Sex',hue='Purpose')\n",
        "plt.legend()\n",
        "#Al ser un analisis descriptivo de los propositos de solicitud de credito, podemos ver lo siguiente:\n",
        "#En ambos sexos la mayoria de solicitudes siguien un patron similar."
      ],
      "metadata": {
        "id": "63DwLigw78nE",
        "colab": {
          "base_uri": "https://localhost:8080/",
          "height": 312
        },
        "outputId": "21a85711-eebc-4c0e-b5fd-31735a188a48"
      },
      "execution_count": null,
      "outputs": [
        {
          "output_type": "execute_result",
          "data": {
            "text/plain": [
              "<matplotlib.legend.Legend at 0x7f9bf30fe640>"
            ]
          },
          "metadata": {},
          "execution_count": 13
        },
        {
          "output_type": "display_data",
          "data": {
            "text/plain": [
              "<Figure size 432x288 with 1 Axes>"
            ],
            "image/png": "[encoded data removed]"
          },
          "metadata": {
            "needs_background": "light"
          }
        }
      ]
    },
    {
      "cell_type": "code",
      "source": [
        "plt.title('charts of german credit')\n",
        "sn.countplot(data=german_credit_data, x='Sex',hue='Saving accounts')\n",
        "plt.legend()\n",
        "plt.tight_layout()\n",
        "plt.show()"
      ],
      "metadata": {
        "id": "nNjvzgdA8dgc",
        "colab": {
          "base_uri": "https://localhost:8080/",
          "height": 297
        },
        "outputId": "34e4fefb-3701-4f74-cef1-c4f0d1f2e628"
      },
      "execution_count": null,
      "outputs": [
        {
          "output_type": "display_data",
          "data": {
            "text/plain": [
              "<Figure size 432x288 with 1 Axes>"
            ],
            "image/png": "[encoded data removed]"
          },
          "metadata": {
            "needs_background": "light"
          }
        }
      ]
    },
    {
      "cell_type": "code",
      "source": [
        "sn.displot(data=german_credit_data,x='Duration',hue='Sex',kde=True)\n",
        "# Mostando que los creditos de los hombres tienen una mayor duracion que los creditos de las mujeres. "
      ],
      "metadata": {
        "id": "932g6qJ3-8GK",
        "colab": {
          "base_uri": "https://localhost:8080/",
          "height": 386
        },
        "outputId": "1cc82b65-db59-4238-ce86-532ffb5d6869"
      },
      "execution_count": null,
      "outputs": [
        {
          "output_type": "execute_result",
          "data": {
            "text/plain": [
              "<seaborn.axisgrid.FacetGrid at 0x7f9bee55aeb0>"
            ]
          },
          "metadata": {},
          "execution_count": 43
        },
        {
          "output_type": "display_data",
          "data": {
            "text/plain": [
              "<Figure size 430.5x360 with 1 Axes>"
            ],
            "image/png": "[encoded data removed]"
          },
          "metadata": {
            "needs_background": "light"
          }
        }
      ]
    },
    {
      "cell_type": "code",
      "source": [
        "fig = px.histogram(german_credit_data,x='Credit_amount',color='Saving accounts',template='plotly_dark',marginal='box',color_discrete_sequence=px.colors.sequential.RdBu)\n",
        "fig.update_layout(barmode='group')\n",
        "#las cuentas pequeñas son quienes solicitan mas creditos."
      ],
      "metadata": {
        "id": "TC958dETAEof",
        "colab": {
          "base_uri": "https://localhost:8080/",
          "height": 562
        },
        "outputId": "6a157735-2847-4fd9-ff76-3a1913186745"
      },
      "execution_count": null,
      "outputs": [
        {
          "output_type": "display_data",
          "data": {
            "text/html": [
              "<html>\n",
              "<head><meta charset=\"utf-8\" /></head>\n",
              "<body>\n",
              "    <div>            <script src=\"https://cdnjs.cloudflare.com/ajax/libs/mathjax/2.7.5/MathJax.js?config=TeX-AMS-MML_SVG\"></script><script type=\"text/javascript\">if (window.MathJax) {MathJax.Hub.Config({SVG: {font: \"STIX-Web\"}});}</script>                <script type=\"text/javascript\">window.PlotlyConfig = {MathJaxConfig: 'local'};</script>\n",
              "        <script src=\"https://cdn.plot.ly/plotly-2.8.3.min.js\"></script>                <div id=\"21c72cf9-c853-487f-afec-6e055a59d00a\" class=\"plotly-graph-div\" style=\"height:525px; width:100%;\"></div>            <script type=\"text/javascript\">                                    window.PLOTLYENV=window.PLOTLYENV || {};                                    if (document.getElementById(\"21c72cf9-c853-487f-afec-6e055a59d00a\")) {                    Plotly.newPlot(                        \"21c72cf9-c853-487f-afec-6e055a59d00a\",                        [{\"alignmentgroup\":\"True\",\"bingroup\":\"x\",\"hovertemplate\":\"Saving accounts=little<br>Credit_amount=%{x}<br>count=%{y}<extra></extra>\",\"legendgroup\":\"little\",\"marker\":{\"color\":\"rgb(103,0,31)\",\"pattern\":{\"shape\":\"\"}},\"name\":\"little\",\"offsetgroup\":\"little\",\"orientation\":\"v\",\"showlegend\":true,\"x\":[1169,5951,2096,7882,4870,9055,6948,5234,1295,4308,1567,1199,1403,2424,8072,12579,2134,2241,2069,1374,426,2415,6836,4020,1264,1474,4746,6110,2100,1225,458,6204,6143,1393,7228,2333,5965,1262,3378,2225,783,6468,9566,1961,6229,1391,1537,1953,14421,3181,5190,2171,1819,2394,8133,730,1164,5954,1977,1526,3965,4771,9436,3832,5943,1755,2315,1412,1295,1108,618,1409,797,3617,15945,2012,2337,7057,2323,932,1919,2445,11938,6458,6078,7721,392,6260,7855,3578,7174,2132,1835,3868,1768,781,1924,2121,701,639,1860,3499,8487,6887,2708,1984,1240,2728,1881,4795,3416,2462,2288,860,5371,1924,5848,1282,339,1898,1055,7308,1131,3972,1935,950,763,2064,1414,3414,7485,2577,1963,571,9572,4455,1647,884,1360,5129,1175,3244,3915,2108,1501,1382,2760,4297,1168,5117,902,1495,10623,1935,1424,6568,3074,3835,5293,1908,3342,932,3104,3913,3021,1364,625,1200,707,2978,4657,2613,7865,1478,3149,4210,866,1544,1823,14555,1291,2522,915,1595,4605,1185,1258,717,1925,433,2251,2150,2030,7418,2684,2149,1657,1603,5302,2748,1231,802,6304,1533,8978,999,2662,12169,3060,11998,2697,2404,1262,4611,1574,1445,1520,10722,4788,1092,1024,1076,9398,6419,4796,7629,9960,4675,1287,2515,672,3804,1344,1038,4811,1237,276,5381,3749,685,1494,2746,708,4351,701,3643,4249,1938,2910,1028,3398,5801,4473,1068,6615,4110,3384,2101,1275,4169,1521,5743,3599,4439,3949,1459,882,1236,959,3229,6199,1246,2331,4463,776,2406,1239,3399,2247,1766,2473,1542,3850,3650,3446,3001,3079,6070,2146,13756,7685,2320,846,14318,2212,12976,1283,1330,2238,1126,7374,1449,1820,3249,1957,2406,2578,2348,1223,1473,1887,8648,802,2899,2039,2197,1053,1967,7253,2292,1381,5842,2579,8471,1042,2028,958,2762,2779,2743,1313,1190,3448,11328,1872,2058,2136,1484,3394,609,1884,1620,2629,719,5096,1244,1842,2576,1424,11054,518,2759,2670,4817,2679,3905,3386,343,4594,3620,1721,3017,754,1950,2924,1659,7238,2764,4679,448,654,1238,1245,3114,5152,1478,3573,1201,1209,3077,3757,3518,1934,8318,368,2122,2996,1585,1301,3123,5493,1207,1309,1413,759,4686,2687,585,2255,609,1361,7127,700,5507,3190,7119,1113,7966,1503,2302,662,2273,1503,3105,2319,1374,3612,7763,3049,1534,2032,6350,2864,1255,1333,2022,1552,626,8858,996,6999,1199,1331,5003,3552,1928,2964,1546,683,12389,4712,1372,3979,6758,3234,5954,5433,806,1082,2788,2930,1927,2820,937,1056,3124,1388,2384,2133,2039,2799,1289,1217,2246,385,1965,2718,1358,1442,4241,2775,3863,2329,918,1837,3349,1275,4526,2051,1300,3632,1808,12204,9157,3676,640,3652,1530,3914,1858,2600,1979,2116,3832,3660,1553,1444,1980,1355,1393,15653,1493,4370,750,1308,1851,1880,7980,4583,947,684,7476,1922,2303,2346,3973,888,10222,4221,6361,1297,900,2241,1050,1047,6314,3609,4843,3017,10366,4530,5150,2384,1453,1538,2279,1478,5103,6527,1347,975,4716,2284,1103,926,1800,1905,6331,2528,2969,1206,2118,1198,2476,1138,14027,7596,3077,1505,3148,1337,1228,2570,1882,6416,6403,1987,760,3380,3990,11560,6761,1048,3160,14179,1797,2511,1274,5248,3029,428,976,5771,1285,1299,1271,1393,691,5045,2124,2214,12680,1155,3108,2901,3617,1655,2812,8065,3275,1371,3535,3509,3872,4933,1410,6468,2751,6224,5998,1188,6313,1221,2892,7511,1258,717,1549,1597,1795,4272,976,7472,9271,590,930,9283,1778,907,484,9629,3051,3931,7432,1554,15857,1345,1101,3016,2712,731,3780,1602,3966,4165,8335,6681,1216,11816,5084,2327,1082,886,601,2957,2611,5179,2993,1943,1559,3422,3976,6761,1249,1364,709,2235,4042,1471,1442,10875,894,3343,3959,2169,2439,2210,2389,3331,7409,652,1343,874,3590,1940,3595,1422,6742,7814,9277,2181,1098,4057,795,2825,15672,6614,7824,2442,1829,2171,5800,1169,8947,2606,2186,4153,2625,3485,10477,1386,1278,1107,3763,3711,3594,3195,4454,4736,2991,3161,18424,14896,3345,1817,1366,2002,6872,697,1049,10297,1867,1344,1747,1670,1224,1498,745,2063,6288,6842,3527,1546,929,1455,1845,2859,1533,3590,2145,10974,1893,3656,1154,4006,1740,2353,3556,454,1715,3568,7166,3939,7393,1193,7297,2831,753,2427,2538,8386,4844,8229,2028,1433,6289,6579,1743,3565,1936,3959,2390,1736,3857,804,1845],\"xaxis\":\"x\",\"yaxis\":\"y\",\"type\":\"histogram\"},{\"alignmentgroup\":\"True\",\"hovertemplate\":\"Saving accounts=little<br>Credit_amount=%{x}<extra></extra>\",\"legendgroup\":\"little\",\"marker\":{\"color\":\"rgb(103,0,31)\"},\"name\":\"little\",\"notched\":true,\"offsetgroup\":\"little\",\"showlegend\":false,\"x\":[1169,5951,2096,7882,4870,9055,6948,5234,1295,4308,1567,1199,1403,2424,8072,12579,2134,2241,2069,1374,426,2415,6836,4020,1264,1474,4746,6110,2100,1225,458,6204,6143,1393,7228,2333,5965,1262,3378,2225,783,6468,9566,1961,6229,1391,1537,1953,14421,3181,5190,2171,1819,2394,8133,730,1164,5954,1977,1526,3965,4771,9436,3832,5943,1755,2315,1412,1295,1108,618,1409,797,3617,15945,2012,2337,7057,2323,932,1919,2445,11938,6458,6078,7721,392,6260,7855,3578,7174,2132,1835,3868,1768,781,1924,2121,701,639,1860,3499,8487,6887,2708,1984,1240,2728,1881,4795,3416,2462,2288,860,5371,1924,5848,1282,339,1898,1055,7308,1131,3972,1935,950,763,2064,1414,3414,7485,2577,1963,571,9572,4455,1647,884,1360,5129,1175,3244,3915,2108,1501,1382,2760,4297,1168,5117,902,1495,10623,1935,1424,6568,3074,3835,5293,1908,3342,932,3104,3913,3021,1364,625,1200,707,2978,4657,2613,7865,1478,3149,4210,866,1544,1823,14555,1291,2522,915,1595,4605,1185,1258,717,1925,433,2251,2150,2030,7418,2684,2149,1657,1603,5302,2748,1231,802,6304,1533,8978,999,2662,12169,3060,11998,2697,2404,1262,4611,1574,1445,1520,10722,4788,1092,1024,1076,9398,6419,4796,7629,9960,4675,1287,2515,672,3804,1344,1038,4811,1237,276,5381,3749,685,1494,2746,708,4351,701,3643,4249,1938,2910,1028,3398,5801,4473,1068,6615,4110,3384,2101,1275,4169,1521,5743,3599,4439,3949,1459,882,1236,959,3229,6199,1246,2331,4463,776,2406,1239,3399,2247,1766,2473,1542,3850,3650,3446,3001,3079,6070,2146,13756,7685,2320,846,14318,2212,12976,1283,1330,2238,1126,7374,1449,1820,3249,1957,2406,2578,2348,1223,1473,1887,8648,802,2899,2039,2197,1053,1967,7253,2292,1381,5842,2579,8471,1042,2028,958,2762,2779,2743,1313,1190,3448,11328,1872,2058,2136,1484,3394,609,1884,1620,2629,719,5096,1244,1842,2576,1424,11054,518,2759,2670,4817,2679,3905,3386,343,4594,3620,1721,3017,754,1950,2924,1659,7238,2764,4679,448,654,1238,1245,3114,5152,1478,3573,1201,1209,3077,3757,3518,1934,8318,368,2122,2996,1585,1301,3123,5493,1207,1309,1413,759,4686,2687,585,2255,609,1361,7127,700,5507,3190,7119,1113,7966,1503,2302,662,2273,1503,3105,2319,1374,3612,7763,3049,1534,2032,6350,2864,1255,1333,2022,1552,626,8858,996,6999,1199,1331,5003,3552,1928,2964,1546,683,12389,4712,1372,3979,6758,3234,5954,5433,806,1082,2788,2930,1927,2820,937,1056,3124,1388,2384,2133,2039,2799,1289,1217,2246,385,1965,2718,1358,1442,4241,2775,3863,2329,918,1837,3349,1275,4526,2051,1300,3632,1808,12204,9157,3676,640,3652,1530,3914,1858,2600,1979,2116,3832,3660,1553,1444,1980,1355,1393,15653,1493,4370,750,1308,1851,1880,7980,4583,947,684,7476,1922,2303,2346,3973,888,10222,4221,6361,1297,900,2241,1050,1047,6314,3609,4843,3017,10366,4530,5150,2384,1453,1538,2279,1478,5103,6527,1347,975,4716,2284,1103,926,1800,1905,6331,2528,2969,1206,2118,1198,2476,1138,14027,7596,3077,1505,3148,1337,1228,2570,1882,6416,6403,1987,760,3380,3990,11560,6761,1048,3160,14179,1797,2511,1274,5248,3029,428,976,5771,1285,1299,1271,1393,691,5045,2124,2214,12680,1155,3108,2901,3617,1655,2812,8065,3275,1371,3535,3509,3872,4933,1410,6468,2751,6224,5998,1188,6313,1221,2892,7511,1258,717,1549,1597,1795,4272,976,7472,9271,590,930,9283,1778,907,484,9629,3051,3931,7432,1554,15857,1345,1101,3016,2712,731,3780,1602,3966,4165,8335,6681,1216,11816,5084,2327,1082,886,601,2957,2611,5179,2993,1943,1559,3422,3976,6761,1249,1364,709,2235,4042,1471,1442,10875,894,3343,3959,2169,2439,2210,2389,3331,7409,652,1343,874,3590,1940,3595,1422,6742,7814,9277,2181,1098,4057,795,2825,15672,6614,7824,2442,1829,2171,5800,1169,8947,2606,2186,4153,2625,3485,10477,1386,1278,1107,3763,3711,3594,3195,4454,4736,2991,3161,18424,14896,3345,1817,1366,2002,6872,697,1049,10297,1867,1344,1747,1670,1224,1498,745,2063,6288,6842,3527,1546,929,1455,1845,2859,1533,3590,2145,10974,1893,3656,1154,4006,1740,2353,3556,454,1715,3568,7166,3939,7393,1193,7297,2831,753,2427,2538,8386,4844,8229,2028,1433,6289,6579,1743,3565,1936,3959,2390,1736,3857,804,1845],\"xaxis\":\"x2\",\"yaxis\":\"y2\",\"type\":\"box\"},{\"alignmentgroup\":\"True\",\"bingroup\":\"x\",\"hovertemplate\":\"Saving accounts=quite rich<br>Credit_amount=%{x}<br>count=%{y}<extra></extra>\",\"legendgroup\":\"quite rich\",\"marker\":{\"color\":\"rgb(178,24,43)\",\"pattern\":{\"shape\":\"\"}},\"name\":\"quite rich\",\"offsetgroup\":\"quite rich\",\"orientation\":\"v\",\"showlegend\":true,\"x\":[2835,3430,2647,2333,1158,2299,1352,1213,1410,1680,4281,2366,766,1262,909,2978,338,936,2507,3447,1402,10127,3213,3758,727,2326,3235,939,1597,2782,660,2569,1163,2360,1750,2828,4042,1376,1386,2080,2580,1236,1123,5324,629,790,1316,2483,1480,2675,3062,1338,2375,2221,7678,12749,522,8358,3349,4113,2397,2520,1258],\"xaxis\":\"x\",\"yaxis\":\"y\",\"type\":\"histogram\"},{\"alignmentgroup\":\"True\",\"hovertemplate\":\"Saving accounts=quite rich<br>Credit_amount=%{x}<extra></extra>\",\"legendgroup\":\"quite rich\",\"marker\":{\"color\":\"rgb(178,24,43)\"},\"name\":\"quite rich\",\"notched\":true,\"offsetgroup\":\"quite rich\",\"showlegend\":false,\"x\":[2835,3430,2647,2333,1158,2299,1352,1213,1410,1680,4281,2366,766,1262,909,2978,338,936,2507,3447,1402,10127,3213,3758,727,2326,3235,939,1597,2782,660,2569,1163,2360,1750,2828,4042,1376,1386,2080,2580,1236,1123,5324,629,790,1316,2483,1480,2675,3062,1338,2375,2221,7678,12749,522,8358,3349,4113,2397,2520,1258],\"xaxis\":\"x2\",\"yaxis\":\"y2\",\"type\":\"box\"},{\"alignmentgroup\":\"True\",\"bingroup\":\"x\",\"hovertemplate\":\"Saving accounts=rich<br>Credit_amount=%{x}<br>count=%{y}<extra></extra>\",\"legendgroup\":\"rich\",\"marker\":{\"color\":\"rgb(214,96,77)\",\"pattern\":{\"shape\":\"\"}},\"name\":\"rich\",\"offsetgroup\":\"rich\",\"orientation\":\"v\",\"showlegend\":true,\"x\":[3059,409,1913,1007,1318,8613,709,1582,7758,1577,3777,4591,1413,10961,666,3368,2745,1543,2659,1525,1136,983,1516,3186,1149,1287,1512,3622,960,2578,1572,3357,3496,3651,433,250,1275,2603,1555,5711,1940,1941,5804,4526,1322,1592,2142,1231],\"xaxis\":\"x\",\"yaxis\":\"y\",\"type\":\"histogram\"},{\"alignmentgroup\":\"True\",\"hovertemplate\":\"Saving accounts=rich<br>Credit_amount=%{x}<extra></extra>\",\"legendgroup\":\"rich\",\"marker\":{\"color\":\"rgb(214,96,77)\"},\"name\":\"rich\",\"notched\":true,\"offsetgroup\":\"rich\",\"showlegend\":false,\"x\":[3059,409,1913,1007,1318,8613,709,1582,7758,1577,3777,4591,1413,10961,666,3368,2745,1543,2659,1525,1136,983,1516,3186,1149,1287,1512,3622,960,2578,1572,3357,3496,3651,433,250,1275,2603,1555,5711,1940,1941,5804,4526,1322,1592,2142,1231],\"xaxis\":\"x2\",\"yaxis\":\"y2\",\"type\":\"box\"},{\"alignmentgroup\":\"True\",\"bingroup\":\"x\",\"hovertemplate\":\"Saving accounts=moderate<br>Credit_amount=%{x}<br>count=%{y}<extra></extra>\",\"legendgroup\":\"moderate\",\"marker\":{\"color\":\"rgb(244,165,130)\",\"pattern\":{\"shape\":\"\"}},\"name\":\"moderate\",\"offsetgroup\":\"moderate\",\"orientation\":\"v\",\"showlegend\":true,\"x\":[1282,1804,5866,6187,2073,1568,12612,2249,2622,1469,1449,10144,3566,682,1346,6967,1288,3512,2872,674,3844,3031,951,2141,2767,1204,4151,3812,1154,1901,3878,7582,727,5511,1864,7408,11590,1743,14782,362,4272,11760,1591,3092,1037,1418,1237,9034,1323,1126,1216,6850,8588,1203,3488,1532,2631,1311,1995,2278,1553,931,2671,741,1240,3441,1437,4623,8086,4139,5742,5595,9857,2862,2753,2631,2896,1377,2503,6560,6148,4380,4280,2325,841,2463,2223,836,2301,1474,3577,1382,2848,2359,1919,3621,3069,1514,1264,2923,1409,1569,4576],\"xaxis\":\"x\",\"yaxis\":\"y\",\"type\":\"histogram\"},{\"alignmentgroup\":\"True\",\"hovertemplate\":\"Saving accounts=moderate<br>Credit_amount=%{x}<extra></extra>\",\"legendgroup\":\"moderate\",\"marker\":{\"color\":\"rgb(244,165,130)\"},\"name\":\"moderate\",\"notched\":true,\"offsetgroup\":\"moderate\",\"showlegend\":false,\"x\":[1282,1804,5866,6187,2073,1568,12612,2249,2622,1469,1449,10144,3566,682,1346,6967,1288,3512,2872,674,3844,3031,951,2141,2767,1204,4151,3812,1154,1901,3878,7582,727,5511,1864,7408,11590,1743,14782,362,4272,11760,1591,3092,1037,1418,1237,9034,1323,1126,1216,6850,8588,1203,3488,1532,2631,1311,1995,2278,1553,931,2671,741,1240,3441,1437,4623,8086,4139,5742,5595,9857,2862,2753,2631,2896,1377,2503,6560,6148,4380,4280,2325,841,2463,2223,836,2301,1474,3577,1382,2848,2359,1919,3621,3069,1514,1264,2923,1409,1569,4576],\"xaxis\":\"x2\",\"yaxis\":\"y2\",\"type\":\"box\"}],                        {\"template\":{\"data\":{\"barpolar\":[{\"marker\":{\"line\":{\"color\":\"rgb(17,17,17)\",\"width\":0.5},\"pattern\":{\"fillmode\":\"overlay\",\"size\":10,\"solidity\":0.2}},\"type\":\"barpolar\"}],\"bar\":[{\"error_x\":{\"color\":\"#f2f5fa\"},\"error_y\":{\"color\":\"#f2f5fa\"},\"marker\":{\"line\":{\"color\":\"rgb(17,17,17)\",\"width\":0.5},\"pattern\":{\"fillmode\":\"overlay\",\"size\":10,\"solidity\":0.2}},\"type\":\"bar\"}],\"carpet\":[{\"aaxis\":{\"endlinecolor\":\"#A2B1C6\",\"gridcolor\":\"#506784\",\"linecolor\":\"#506784\",\"minorgridcolor\":\"#506784\",\"startlinecolor\":\"#A2B1C6\"},\"baxis\":{\"endlinecolor\":\"#A2B1C6\",\"gridcolor\":\"#506784\",\"linecolor\":\"#506784\",\"minorgridcolor\":\"#506784\",\"startlinecolor\":\"#A2B1C6\"},\"type\":\"carpet\"}],\"choropleth\":[{\"colorbar\":{\"outlinewidth\":0,\"ticks\":\"\"},\"type\":\"choropleth\"}],\"contourcarpet\":[{\"colorbar\":{\"outlinewidth\":0,\"ticks\":\"\"},\"type\":\"contourcarpet\"}],\"contour\":[{\"colorbar\":{\"outlinewidth\":0,\"ticks\":\"\"},\"colorscale\":[[0.0,\"#0d0887\"],[0.1111111111111111,\"#46039f\"],[0.2222222222222222,\"#7201a8\"],[0.3333333333333333,\"#9c179e\"],[0.4444444444444444,\"#bd3786\"],[0.5555555555555556,\"#d8576b\"],[0.6666666666666666,\"#ed7953\"],[0.7777777777777778,\"#fb9f3a\"],[0.8888888888888888,\"#fdca26\"],[1.0,\"#f0f921\"]],\"type\":\"contour\"}],\"heatmapgl\":[{\"colorbar\":{\"outlinewidth\":0,\"ticks\":\"\"},\"colorscale\":[[0.0,\"#0d0887\"],[0.1111111111111111,\"#46039f\"],[0.2222222222222222,\"#7201a8\"],[0.3333333333333333,\"#9c179e\"],[0.4444444444444444,\"#bd3786\"],[0.5555555555555556,\"#d8576b\"],[0.6666666666666666,\"#ed7953\"],[0.7777777777777778,\"#fb9f3a\"],[0.8888888888888888,\"#fdca26\"],[1.0,\"#f0f921\"]],\"type\":\"heatmapgl\"}],\"heatmap\":[{\"colorbar\":{\"outlinewidth\":0,\"ticks\":\"\"},\"colorscale\":[[0.0,\"#0d0887\"],[0.1111111111111111,\"#46039f\"],[0.2222222222222222,\"#7201a8\"],[0.3333333333333333,\"#9c179e\"],[0.4444444444444444,\"#bd3786\"],[0.5555555555555556,\"#d8576b\"],[0.6666666666666666,\"#ed7953\"],[0.7777777777777778,\"#fb9f3a\"],[0.8888888888888888,\"#fdca26\"],[1.0,\"#f0f921\"]],\"type\":\"heatmap\"}],\"histogram2dcontour\":[{\"colorbar\":{\"outlinewidth\":0,\"ticks\":\"\"},\"colorscale\":[[0.0,\"#0d0887\"],[0.1111111111111111,\"#46039f\"],[0.2222222222222222,\"#7201a8\"],[0.3333333333333333,\"#9c179e\"],[0.4444444444444444,\"#bd3786\"],[0.5555555555555556,\"#d8576b\"],[0.6666666666666666,\"#ed7953\"],[0.7777777777777778,\"#fb9f3a\"],[0.8888888888888888,\"#fdca26\"],[1.0,\"#f0f921\"]],\"type\":\"histogram2dcontour\"}],\"histogram2d\":[{\"colorbar\":{\"outlinewidth\":0,\"ticks\":\"\"},\"colorscale\":[[0.0,\"#0d0887\"],[0.1111111111111111,\"#46039f\"],[0.2222222222222222,\"#7201a8\"],[0.3333333333333333,\"#9c179e\"],[0.4444444444444444,\"#bd3786\"],[0.5555555555555556,\"#d8576b\"],[0.6666666666666666,\"#ed7953\"],[0.7777777777777778,\"#fb9f3a\"],[0.8888888888888888,\"#fdca26\"],[1.0,\"#f0f921\"]],\"type\":\"histogram2d\"}],\"histogram\":[{\"marker\":{\"pattern\":{\"fillmode\":\"overlay\",\"size\":10,\"solidity\":0.2}},\"type\":\"histogram\"}],\"mesh3d\":[{\"colorbar\":{\"outlinewidth\":0,\"ticks\":\"\"},\"type\":\"mesh3d\"}],\"parcoords\":[{\"line\":{\"colorbar\":{\"outlinewidth\":0,\"ticks\":\"\"}},\"type\":\"parcoords\"}],\"pie\":[{\"automargin\":true,\"type\":\"pie\"}],\"scatter3d\":[{\"line\":{\"colorbar\":{\"outlinewidth\":0,\"ticks\":\"\"}},\"marker\":{\"colorbar\":{\"outlinewidth\":0,\"ticks\":\"\"}},\"type\":\"scatter3d\"}],\"scattercarpet\":[{\"marker\":{\"colorbar\":{\"outlinewidth\":0,\"ticks\":\"\"}},\"type\":\"scattercarpet\"}],\"scattergeo\":[{\"marker\":{\"colorbar\":{\"outlinewidth\":0,\"ticks\":\"\"}},\"type\":\"scattergeo\"}],\"scattergl\":[{\"marker\":{\"line\":{\"color\":\"#283442\"}},\"type\":\"scattergl\"}],\"scattermapbox\":[{\"marker\":{\"colorbar\":{\"outlinewidth\":0,\"ticks\":\"\"}},\"type\":\"scattermapbox\"}],\"scatterpolargl\":[{\"marker\":{\"colorbar\":{\"outlinewidth\":0,\"ticks\":\"\"}},\"type\":\"scatterpolargl\"}],\"scatterpolar\":[{\"marker\":{\"colorbar\":{\"outlinewidth\":0,\"ticks\":\"\"}},\"type\":\"scatterpolar\"}],\"scatter\":[{\"marker\":{\"line\":{\"color\":\"#283442\"}},\"type\":\"scatter\"}],\"scatterternary\":[{\"marker\":{\"colorbar\":{\"outlinewidth\":0,\"ticks\":\"\"}},\"type\":\"scatterternary\"}],\"surface\":[{\"colorbar\":{\"outlinewidth\":0,\"ticks\":\"\"},\"colorscale\":[[0.0,\"#0d0887\"],[0.1111111111111111,\"#46039f\"],[0.2222222222222222,\"#7201a8\"],[0.3333333333333333,\"#9c179e\"],[0.4444444444444444,\"#bd3786\"],[0.5555555555555556,\"#d8576b\"],[0.6666666666666666,\"#ed7953\"],[0.7777777777777778,\"#fb9f3a\"],[0.8888888888888888,\"#fdca26\"],[1.0,\"#f0f921\"]],\"type\":\"surface\"}],\"table\":[{\"cells\":{\"fill\":{\"color\":\"#506784\"},\"line\":{\"color\":\"rgb(17,17,17)\"}},\"header\":{\"fill\":{\"color\":\"#2a3f5f\"},\"line\":{\"color\":\"rgb(17,17,17)\"}},\"type\":\"table\"}]},\"layout\":{\"annotationdefaults\":{\"arrowcolor\":\"#f2f5fa\",\"arrowhead\":0,\"arrowwidth\":1},\"autotypenumbers\":\"strict\",\"coloraxis\":{\"colorbar\":{\"outlinewidth\":0,\"ticks\":\"\"}},\"colorscale\":{\"diverging\":[[0,\"#8e0152\"],[0.1,\"#c51b7d\"],[0.2,\"#de77ae\"],[0.3,\"#f1b6da\"],[0.4,\"#fde0ef\"],[0.5,\"#f7f7f7\"],[0.6,\"#e6f5d0\"],[0.7,\"#b8e186\"],[0.8,\"#7fbc41\"],[0.9,\"#4d9221\"],[1,\"#276419\"]],\"sequential\":[[0.0,\"#0d0887\"],[0.1111111111111111,\"#46039f\"],[0.2222222222222222,\"#7201a8\"],[0.3333333333333333,\"#9c179e\"],[0.4444444444444444,\"#bd3786\"],[0.5555555555555556,\"#d8576b\"],[0.6666666666666666,\"#ed7953\"],[0.7777777777777778,\"#fb9f3a\"],[0.8888888888888888,\"#fdca26\"],[1.0,\"#f0f921\"]],\"sequentialminus\":[[0.0,\"#0d0887\"],[0.1111111111111111,\"#46039f\"],[0.2222222222222222,\"#7201a8\"],[0.3333333333333333,\"#9c179e\"],[0.4444444444444444,\"#bd3786\"],[0.5555555555555556,\"#d8576b\"],[0.6666666666666666,\"#ed7953\"],[0.7777777777777778,\"#fb9f3a\"],[0.8888888888888888,\"#fdca26\"],[1.0,\"#f0f921\"]]},\"colorway\":[\"#636efa\",\"#EF553B\",\"#00cc96\",\"#ab63fa\",\"#FFA15A\",\"#19d3f3\",\"#FF6692\",\"#B6E880\",\"#FF97FF\",\"#FECB52\"],\"font\":{\"color\":\"#f2f5fa\"},\"geo\":{\"bgcolor\":\"rgb(17,17,17)\",\"lakecolor\":\"rgb(17,17,17)\",\"landcolor\":\"rgb(17,17,17)\",\"showlakes\":true,\"showland\":true,\"subunitcolor\":\"#506784\"},\"hoverlabel\":{\"align\":\"left\"},\"hovermode\":\"closest\",\"mapbox\":{\"style\":\"dark\"},\"paper_bgcolor\":\"rgb(17,17,17)\",\"plot_bgcolor\":\"rgb(17,17,17)\",\"polar\":{\"angularaxis\":{\"gridcolor\":\"#506784\",\"linecolor\":\"#506784\",\"ticks\":\"\"},\"bgcolor\":\"rgb(17,17,17)\",\"radialaxis\":{\"gridcolor\":\"#506784\",\"linecolor\":\"#506784\",\"ticks\":\"\"}},\"scene\":{\"xaxis\":{\"backgroundcolor\":\"rgb(17,17,17)\",\"gridcolor\":\"#506784\",\"gridwidth\":2,\"linecolor\":\"#506784\",\"showbackground\":true,\"ticks\":\"\",\"zerolinecolor\":\"#C8D4E3\"},\"yaxis\":{\"backgroundcolor\":\"rgb(17,17,17)\",\"gridcolor\":\"#506784\",\"gridwidth\":2,\"linecolor\":\"#506784\",\"showbackground\":true,\"ticks\":\"\",\"zerolinecolor\":\"#C8D4E3\"},\"zaxis\":{\"backgroundcolor\":\"rgb(17,17,17)\",\"gridcolor\":\"#506784\",\"gridwidth\":2,\"linecolor\":\"#506784\",\"showbackground\":true,\"ticks\":\"\",\"zerolinecolor\":\"#C8D4E3\"}},\"shapedefaults\":{\"line\":{\"color\":\"#f2f5fa\"}},\"sliderdefaults\":{\"bgcolor\":\"#C8D4E3\",\"bordercolor\":\"rgb(17,17,17)\",\"borderwidth\":1,\"tickwidth\":0},\"ternary\":{\"aaxis\":{\"gridcolor\":\"#506784\",\"linecolor\":\"#506784\",\"ticks\":\"\"},\"baxis\":{\"gridcolor\":\"#506784\",\"linecolor\":\"#506784\",\"ticks\":\"\"},\"bgcolor\":\"rgb(17,17,17)\",\"caxis\":{\"gridcolor\":\"#506784\",\"linecolor\":\"#506784\",\"ticks\":\"\"}},\"title\":{\"x\":0.05},\"updatemenudefaults\":{\"bgcolor\":\"#506784\",\"borderwidth\":0},\"xaxis\":{\"automargin\":true,\"gridcolor\":\"#283442\",\"linecolor\":\"#506784\",\"ticks\":\"\",\"title\":{\"standoff\":15},\"zerolinecolor\":\"#283442\",\"zerolinewidth\":2},\"yaxis\":{\"automargin\":true,\"gridcolor\":\"#283442\",\"linecolor\":\"#506784\",\"ticks\":\"\",\"title\":{\"standoff\":15},\"zerolinecolor\":\"#283442\",\"zerolinewidth\":2}}},\"xaxis\":{\"anchor\":\"y\",\"domain\":[0.0,1.0],\"title\":{\"text\":\"Credit_amount\"}},\"yaxis\":{\"anchor\":\"x\",\"domain\":[0.0,0.7326],\"title\":{\"text\":\"count\"}},\"xaxis2\":{\"anchor\":\"y2\",\"domain\":[0.0,1.0],\"matches\":\"x\",\"showticklabels\":false,\"showgrid\":true},\"yaxis2\":{\"anchor\":\"x2\",\"domain\":[0.7426,1.0],\"matches\":\"y2\",\"showticklabels\":false,\"showline\":false,\"ticks\":\"\",\"showgrid\":false},\"legend\":{\"title\":{\"text\":\"Saving accounts\"},\"tracegroupgap\":0},\"margin\":{\"t\":60},\"barmode\":\"group\"},                        {\"responsive\": true}                    ).then(function(){\n",
              "                            \n",
              "var gd = document.getElementById('21c72cf9-c853-487f-afec-6e055a59d00a');\n",
              "var x = new MutationObserver(function (mutations, observer) {{\n",
              "        var display = window.getComputedStyle(gd).display;\n",
              "        if (!display || display === 'none') {{\n",
              "            console.log([gd, 'removed!']);\n",
              "            Plotly.purge(gd);\n",
              "            observer.disconnect();\n",
              "        }}\n",
              "}});\n",
              "\n",
              "// Listen for the removal of the full notebook cells\n",
              "var notebookContainer = gd.closest('#notebook-container');\n",
              "if (notebookContainer) {{\n",
              "    x.observe(notebookContainer, {childList: true});\n",
              "}}\n",
              "\n",
              "// Listen for the clearing of the current output cell\n",
              "var outputEl = gd.closest('.output');\n",
              "if (outputEl) {{\n",
              "    x.observe(outputEl, {childList: true});\n",
              "}}\n",
              "\n",
              "                        })                };                            </script>        </div>\n",
              "</body>\n",
              "</html>"
            ]
          },
          "metadata": {}
        }
      ]
    },
    {
      "cell_type": "markdown",
      "source": [
        "### **Normalidad**"
      ],
      "metadata": {
        "id": "sge2Cjq0Diew"
      }
    },
    {
      "cell_type": "markdown",
      "source": [
        "**Analisis de normalidad**,Se elegiran las variables \"Age\", \"Credit_amount\" y \"Duration\" para el analisis de normalidad, debido a que las demas son variables categoricas, que al ser convertidas en variables continuas, presentarian normalidad, ya que las clasificaciones que se les daria serian muy pocas."
      ],
      "metadata": {
        "id": "iHlYdtjYhm39"
      }
    },
    {
      "cell_type": "markdown",
      "source": [
        "**Analisis de normalidad con Q-Q plot**"
      ],
      "metadata": {
        "id": "a50iv-UltUx8"
      }
    },
    {
      "cell_type": "code",
      "source": [
        "# Prueba Q-Q plot para probar la normalidad de los datos. \n",
        "from scipy import stats\n",
        "import matplotlib.pyplot as plt\n",
        "%matplotlib inline\n",
        "import pylab\n",
        "plt.subplot(2,2,1)\n",
        "stats.probplot(german_credit_data.Age, dist = \"norm\", plot = pylab)\n",
        "plt.show()"
      ],
      "metadata": {
        "id": "38JaZzrZDN7G",
        "colab": {
          "base_uri": "https://localhost:8080/",
          "height": 177
        },
        "outputId": "c98be97f-fbd8-4437-be98-138a69707857"
      },
      "execution_count": null,
      "outputs": [
        {
          "output_type": "display_data",
          "data": {
            "text/plain": [
              "<Figure size 432x288 with 1 Axes>"
            ],
            "image/png": "[encoded data removed]"
          },
          "metadata": {
            "needs_background": "light"
          }
        }
      ]
    },
    {
      "cell_type": "code",
      "source": [
        "plt.subplot(2,2,2)\n",
        "stats.probplot(german_credit_data.Credit_amount, dist = \"norm\", plot = pylab)\n",
        "plt.show()"
      ],
      "metadata": {
        "colab": {
          "base_uri": "https://localhost:8080/",
          "height": 177
        },
        "id": "j5dbXmP2-mzb",
        "outputId": "4287861a-b0bd-45fb-8243-fa6c2e1efb47"
      },
      "execution_count": null,
      "outputs": [
        {
          "output_type": "display_data",
          "data": {
            "text/plain": [
              "<Figure size 432x288 with 1 Axes>"
            ],
            "image/png": "[encoded data removed]"
          },
          "metadata": {
            "needs_background": "light"
          }
        }
      ]
    },
    {
      "cell_type": "code",
      "source": [
        "plt.subplot(2,2,3)\n",
        "stats.probplot(german_credit_data.Duration, dist = \"norm\", plot = pylab)\n",
        "plt.show()"
      ],
      "metadata": {
        "colab": {
          "base_uri": "https://localhost:8080/",
          "height": 177
        },
        "id": "957WAj8i-pVG",
        "outputId": "77babd36-699f-4878-fc4a-32578c45ba62"
      },
      "execution_count": null,
      "outputs": [
        {
          "output_type": "display_data",
          "data": {
            "text/plain": [
              "<Figure size 432x288 with 1 Axes>"
            ],
            "image/png": "[encoded data removed]"
          },
          "metadata": {
            "needs_background": "light"
          }
        }
      ]
    },
    {
      "cell_type": "markdown",
      "source": [
        "*  Se puede observar en el grafico, que los datos de las variables numericas Age, Credit_amount y duracion, no siguen un distribucion \n",
        "normal, confirmando los valores extremos que vimos en el inicio.\n",
        "* Esto se debe a que en este grupo de solicitantes, tienen  diferentes\n",
        "edades, montos de credito y duracion de estos, algo normal y que podria \n",
        "suceder con otros grupo de solicitantes. \n",
        "\n"
      ],
      "metadata": {
        "id": "t3g_pxAYGP0Q"
      }
    },
    {
      "cell_type": "markdown",
      "source": [
        "**Analisis de normalidad con Shapiro-Wilks**"
      ],
      "metadata": {
        "id": "ncvg6v1jtZie"
      }
    },
    {
      "cell_type": "markdown",
      "source": [
        "Utilizamos otros metodo como es Shapiro-Wilks para revisar si la distribucion de los datos era normal, y encontramos que al igual \n",
        "que el anterior metodo, nos muestra anormalidad en los datos. \n"
      ],
      "metadata": {
        "id": "upwYPsjRHC5O"
      }
    },
    {
      "cell_type": "code",
      "source": [
        "from scipy.stats import shapiro\n",
        "sh,p = shapiro(german_credit_data.Age)\n",
        "print(sh,p)\n",
        "if p> 0.05:\n",
        "  print('Age,Presenta una distribucion gausiana')\n",
        "else:\n",
        "  print('Age,No presenta una distribucion gausiana')"
      ],
      "metadata": {
        "id": "f9Y1nAotT6Lb",
        "colab": {
          "base_uri": "https://localhost:8080/"
        },
        "outputId": "301f5d17-81c9-4cae-ee3d-81dcc9ac6ddc"
      },
      "execution_count": null,
      "outputs": [
        {
          "output_type": "stream",
          "name": "stdout",
          "text": [
            "0.9174707531929016 6.381270673909361e-23\n",
            "Age,No presenta una distribucion gausiana\n"
          ]
        }
      ]
    },
    {
      "cell_type": "code",
      "source": [
        "from scipy.stats import shapiro\n",
        "sh,p = shapiro(german_credit_data.Credit_amount)\n",
        "print(sh,p)\n",
        "if p> 0.05:\n",
        "  print('Credit_amount, Presenta una distribucion gausiana')\n",
        "else:\n",
        "  print('Credit_amount, No presenta una distribucion gausiana')"
      ],
      "metadata": {
        "id": "0RPmu_ouhkgk",
        "colab": {
          "base_uri": "https://localhost:8080/"
        },
        "outputId": "7417b102-4ec1-42db-a40a-d22a2a965309"
      },
      "execution_count": null,
      "outputs": [
        {
          "output_type": "stream",
          "name": "stdout",
          "text": [
            "0.7933971881866455 8.609912964372653e-34\n",
            "Credit_amount, No presenta una distribucion gausiana\n"
          ]
        }
      ]
    },
    {
      "cell_type": "code",
      "source": [
        "from scipy.stats import shapiro\n",
        "sh,p = shapiro(german_credit_data.Duration)\n",
        "print(sh,p)\n",
        "if p> 0.05:\n",
        "  print('Duration,Presenta una distribucion Gausiana')\n",
        "else:\n",
        "  print('Duration, No presenta una distribucion Gausiana')"
      ],
      "metadata": {
        "id": "EZEYOwftJM5C",
        "colab": {
          "base_uri": "https://localhost:8080/"
        },
        "outputId": "9f3d580b-dbd2-4215-af1f-8c75267a3dbf"
      },
      "execution_count": null,
      "outputs": [
        {
          "output_type": "stream",
          "name": "stdout",
          "text": [
            "0.8997892737388611 4.908141189598946e-25\n",
            "Duration, No presenta una distribucion Gausiana\n"
          ]
        }
      ]
    },
    {
      "cell_type": "code",
      "source": [
        "sn.displot(german_credit_data['Age'], kde=True)"
      ],
      "metadata": {
        "id": "rFtk5F-UIoZ4",
        "colab": {
          "base_uri": "https://localhost:8080/",
          "height": 386
        },
        "outputId": "386975ab-c710-4152-8981-e516c436dd08"
      },
      "execution_count": null,
      "outputs": [
        {
          "output_type": "execute_result",
          "data": {
            "text/plain": [
              "<seaborn.axisgrid.FacetGrid at 0x7f9bedfed610>"
            ]
          },
          "metadata": {},
          "execution_count": 35
        },
        {
          "output_type": "display_data",
          "data": {
            "text/plain": [
              "<Figure size 360x360 with 1 Axes>"
            ],
            "image/png": "[encoded data removed]"
          },
          "metadata": {
            "needs_background": "light"
          }
        }
      ]
    },
    {
      "cell_type": "code",
      "source": [
        "sn.displot(german_credit_data['Duration'], kde=True)"
      ],
      "metadata": {
        "colab": {
          "base_uri": "https://localhost:8080/",
          "height": 386
        },
        "id": "ShLQhTx99vrM",
        "outputId": "867250ab-e2c7-4b05-b4a8-8bf4ba8c9022"
      },
      "execution_count": null,
      "outputs": [
        {
          "output_type": "execute_result",
          "data": {
            "text/plain": [
              "<seaborn.axisgrid.FacetGrid at 0x7f9bf30bb280>"
            ]
          },
          "metadata": {},
          "execution_count": 36
        },
        {
          "output_type": "display_data",
          "data": {
            "text/plain": [
              "<Figure size 360x360 with 1 Axes>"
            ],
            "image/png": "[encoded data removed]"
          },
          "metadata": {
            "needs_background": "light"
          }
        }
      ]
    },
    {
      "cell_type": "code",
      "source": [
        "sn.displot(german_credit_data['Credit_amount'], kde=True)"
      ],
      "metadata": {
        "colab": {
          "base_uri": "https://localhost:8080/",
          "height": 386
        },
        "id": "4BD-DYX09tmk",
        "outputId": "02ba6693-d834-4ccd-f055-448f87651450"
      },
      "execution_count": null,
      "outputs": [
        {
          "output_type": "execute_result",
          "data": {
            "text/plain": [
              "<seaborn.axisgrid.FacetGrid at 0x7f9bede892e0>"
            ]
          },
          "metadata": {},
          "execution_count": 37
        },
        {
          "output_type": "display_data",
          "data": {
            "text/plain": [
              "<Figure size 360x360 with 1 Axes>"
            ],
            "image/png": "[encoded data removed]"
          },
          "metadata": {
            "needs_background": "light"
          }
        }
      ]
    },
    {
      "cell_type": "markdown",
      "source": [
        "**Prueba de homogeneidad**"
      ],
      "metadata": {
        "id": "PymMXqACpNka"
      }
    },
    {
      "cell_type": "code",
      "source": [
        "from scipy.stats import fligner\n",
        "stat, p = fligner(german_credit_data['Age'], german_credit_data['Duration'])\n",
        "print(stat, p)\n",
        "alpha = 0.05\n",
        "if p > alpha:\n",
        "    print('La varianza es similar (no se rechaza)')\n",
        "else:\n",
        "    print('La varianza no es similar (rechaza)')"
      ],
      "metadata": {
        "id": "baeliBpumzEj",
        "colab": {
          "base_uri": "https://localhost:8080/"
        },
        "outputId": "d77195c3-1c8c-471c-b31e-b2378a3f5925"
      },
      "execution_count": null,
      "outputs": [
        {
          "output_type": "stream",
          "name": "stdout",
          "text": [
            "0.5462373798007437 0.45985918735345666\n",
            "La varianza es similar (no se rechaza)\n"
          ]
        }
      ]
    },
    {
      "cell_type": "code",
      "source": [
        "from scipy.stats import fligner\n",
        "stat, p = fligner(german_credit_data['Credit_amount'], german_credit_data['Duration'])\n",
        "print(stat, p)\n",
        "alpha = 0.05\n",
        "if p > alpha:\n",
        "    print('La varianza es similar (no se rechaza)')\n",
        "else:\n",
        "    print('La varianza no es similar (rechaza)')"
      ],
      "metadata": {
        "id": "IPYQMgVVeBtn",
        "colab": {
          "base_uri": "https://localhost:8080/"
        },
        "outputId": "9376e5bf-ac5e-4a3d-ec9c-b561c15e3913"
      },
      "execution_count": null,
      "outputs": [
        {
          "output_type": "stream",
          "name": "stdout",
          "text": [
            "1214.3359825467426 4.674180992457999e-266\n",
            "La varianza no es similar (rechaza)\n"
          ]
        }
      ]
    },
    {
      "cell_type": "code",
      "source": [
        "from scipy.stats import fligner\n",
        "stat, p = fligner(german_credit_data['Age'], german_credit_data['Credit_amount'])\n",
        "print(stat, p)\n",
        "alpha = 0.05\n",
        "if p > alpha:\n",
        "    print('La varianza es similar (no se rechaza)')\n",
        "else:\n",
        "    print('La varianza no es similar (rechaza)')"
      ],
      "metadata": {
        "id": "mscnB_G7efed",
        "colab": {
          "base_uri": "https://localhost:8080/"
        },
        "outputId": "b8fe4733-7916-4808-87a1-570d090e70ce"
      },
      "execution_count": null,
      "outputs": [
        {
          "output_type": "stream",
          "name": "stdout",
          "text": [
            "1212.1854677522851 1.3710968806473167e-265\n",
            "La varianza no es similar (rechaza)\n"
          ]
        }
      ]
    },
    {
      "cell_type": "markdown",
      "source": [
        "Vemos que existe una similitud en la varianza entre las variables de edad y duracion, mientras que en las variables de credit_amount y duration no existe una similitud, lo mismo que entre Age y Credit_amount."
      ],
      "metadata": {
        "id": "F5W8p7ZceWcL"
      }
    },
    {
      "cell_type": "markdown",
      "source": [
        "**Contraste De Hipotesis**"
      ],
      "metadata": {
        "id": "6eo5by5oTHeV"
      }
    },
    {
      "cell_type": "code",
      "source": [
        "from scipy.stats import levene\n",
        "w, p = levene(german_credit_data['Age'], german_credit_data['Credit_amount'])\n",
        "print(w, p)\n",
        "alpha = 0.05\n",
        "if p > alpha:\n",
        "    print('Varianzas Iguales (no rechaza H0)')\n",
        "else:\n",
        "    print('Varianzas Distintas (rechaza H0)')"
      ],
      "metadata": {
        "id": "A6eA8mrSrOg5",
        "colab": {
          "base_uri": "https://localhost:8080/"
        },
        "outputId": "23ea31a5-4060-441a-8053-e903eb2eff95"
      },
      "execution_count": null,
      "outputs": [
        {
          "output_type": "stream",
          "name": "stdout",
          "text": [
            "658.7436387076679 8.381796636693905e-126\n",
            "Varianzas Distintas (rechaza H0)\n"
          ]
        }
      ]
    },
    {
      "cell_type": "code",
      "source": [
        "from scipy.stats import levene\n",
        "w, p = levene(german_credit_data['Age'], german_credit_data['Duration'])\n",
        "print(w, p)\n",
        "alpha = 0.05\n",
        "if p > alpha:\n",
        "    print('Varianzas Iguales (no rechaza H0)')\n",
        "else:\n",
        "    print('Varianzas Distintas (rechaza H0)')"
      ],
      "metadata": {
        "id": "Yk8HT20phJTR",
        "colab": {
          "base_uri": "https://localhost:8080/"
        },
        "outputId": "33f91f99-876c-44e3-ca98-2301e49f7e0a"
      },
      "execution_count": null,
      "outputs": [
        {
          "output_type": "stream",
          "name": "stdout",
          "text": [
            "1.3410908730362407 0.24698008962582912\n",
            "Varianzas Iguales (no rechaza H0)\n"
          ]
        }
      ]
    },
    {
      "cell_type": "code",
      "source": [
        "from scipy.stats import levene\n",
        "w, p = levene(german_credit_data['Credit_amount'], german_credit_data['Duration'])\n",
        "print(w, p)\n",
        "alpha = 0.05\n",
        "if p > alpha:\n",
        "    print('Varianzas Iguales (no rechaza H0)')\n",
        "else:\n",
        "    print('Varianzas Distintas (rechaza H0)')"
      ],
      "metadata": {
        "id": "c21bcmoQhRG4",
        "colab": {
          "base_uri": "https://localhost:8080/"
        },
        "outputId": "3493a767-232e-474c-c2a9-6e8c004f6969"
      },
      "execution_count": null,
      "outputs": [
        {
          "output_type": "stream",
          "name": "stdout",
          "text": [
            "658.451936063844 9.355098254244076e-126\n",
            "Varianzas Distintas (rechaza H0)\n"
          ]
        }
      ]
    },
    {
      "cell_type": "markdown",
      "source": [
        "**Matriz de correlacion**"
      ],
      "metadata": {
        "id": "86zmzaKevoeQ"
      }
    },
    {
      "cell_type": "code",
      "source": [
        "# No existe una correlacion entre sexo Risk good.\n",
        "#Lo mismo ocurre con la edad, la edad no tendria que estar correlacionada con una probabilidad de apgo o impago. \n",
        "# Se inicia el cambio de la variable Risk a binario dejando el riesgo \"good\" como cero y el \"bad\" como 1\n",
        "r = {\"good\":0, \"bad\": 1}\n",
        "german_credit_data['Risk'] = german_credit_data['Risk'].map(r)"
      ],
      "metadata": {
        "id": "tm4HxVbbzgbm"
      },
      "execution_count": null,
      "outputs": []
    },
    {
      "cell_type": "code",
      "source": [
        "# convertir las variable categoricas en variables numericas en todo el dataframe\n",
        "german_credit_data = pd.get_dummies(german_credit_data)"
      ],
      "metadata": {
        "id": "DRQFy2zm4QfU"
      },
      "execution_count": null,
      "outputs": []
    },
    {
      "cell_type": "code",
      "source": [
        "# Con las variables convertidas, hacemos una matriz de correlacion \n",
        "german_credit_data = german_credit_data.drop(columns=[\"Unnamed: 0\"])\n",
        "plt.figure(figsize=(14,12))\n",
        "sn.heatmap(german_credit_data.astype(float).corr(),linewidths=0.1,vmax=1.0, \n",
        "            square=True,  linecolor='white', cmap='coolwarm')\n",
        "plt.show()"
      ],
      "metadata": {
        "id": "7PqRSfn64f0m",
        "colab": {
          "base_uri": "https://localhost:8080/",
          "height": 620
        },
        "outputId": "b189f774-5ced-4e54-941e-14333a254a4e"
      },
      "execution_count": null,
      "outputs": [
        {
          "output_type": "display_data",
          "data": {
            "text/plain": [
              "<Figure size 1008x864 with 2 Axes>"
            ],
            "image/png": "[encoded data removed]"
          },
          "metadata": {
            "needs_background": "light"
          }
        }
      ]
    },
    {
      "cell_type": "markdown",
      "source": [
        "Como se puede ver en la matriz de correlacion, Credit_amount, Duration y son las variables que mas se relacionan y con esto podemos crear los predictores para hacer la regresion. "
      ],
      "metadata": {
        "id": "sSvWRhKh__oy"
      }
    },
    {
      "cell_type": "markdown",
      "source": [
        "**Logistic Regression con Credit_amount**"
      ],
      "metadata": {
        "id": "lsF7L02q_YeB"
      }
    },
    {
      "cell_type": "code",
      "source": [
        "# dividir el dataset en X & Y\n",
        "from sklearn.model_selection import train_test_split, KFold, cross_val_score\n",
        "X = german_credit_data.drop(['Risk', 'Credit_amount'], axis=1).values\n",
        "y = german_credit_data['Risk'].values\n",
        "X_train, X_test, y_train, y_test = train_test_split(X, y, test_size = 0.20, random_state=42)"
      ],
      "metadata": {
        "id": "KWZdpQtH4ran"
      },
      "execution_count": null,
      "outputs": []
    },
    {
      "cell_type": "code",
      "source": [
        "#Aplicar LogisticRegressio. \n",
        "from sklearn.linear_model import LogisticRegression, LinearRegression\n",
        "from sklearn.metrics import accuracy_score, confusion_matrix, classification_report, fbeta_score\n",
        "log = LogisticRegression()\n",
        "log.fit(X_train, y_train)\n",
        "y_pred_log = log.predict(X_test)\n",
        "print(accuracy_score(y_pred_log, y_test))\n",
        "print(confusion_matrix(y_test, y_pred_log))\n",
        "print(classification_report(y_test, y_pred_log))"
      ],
      "metadata": {
        "id": "WFzEOunV47iN",
        "colab": {
          "base_uri": "https://localhost:8080/"
        },
        "outputId": "b0327342-65a8-4225-dbdd-902d03e3a542"
      },
      "execution_count": null,
      "outputs": [
        {
          "output_type": "stream",
          "name": "stdout",
          "text": [
            "0.7\n",
            "[[127  14]\n",
            " [ 46  13]]\n",
            "              precision    recall  f1-score   support\n",
            "\n",
            "           0       0.73      0.90      0.81       141\n",
            "           1       0.48      0.22      0.30        59\n",
            "\n",
            "    accuracy                           0.70       200\n",
            "   macro avg       0.61      0.56      0.56       200\n",
            "weighted avg       0.66      0.70      0.66       200\n",
            "\n"
          ]
        },
        {
          "output_type": "stream",
          "name": "stderr",
          "text": [
            "/usr/local/lib/python3.8/dist-packages/sklearn/linear_model/_logistic.py:814: ConvergenceWarning:\n",
            "\n",
            "lbfgs failed to converge (status=1):\n",
            "STOP: TOTAL NO. of ITERATIONS REACHED LIMIT.\n",
            "\n",
            "Increase the number of iterations (max_iter) or scale the data as shown in:\n",
            "    https://scikit-learn.org/stable/modules/preprocessing.html\n",
            "Please also refer to the documentation for alternative solver options:\n",
            "    https://scikit-learn.org/stable/modules/linear_model.html#logistic-regression\n",
            "\n"
          ]
        }
      ]
    },
    {
      "cell_type": "markdown",
      "source": [
        "**Logistic Regression con Duration**"
      ],
      "metadata": {
        "id": "osfzLfYRGLRp"
      }
    },
    {
      "cell_type": "code",
      "source": [
        "# dividir el dataset en X & Y\n",
        "from sklearn.model_selection import train_test_split, KFold, cross_val_score\n",
        "X = german_credit_data.drop(['Risk', 'Duration'], axis=1).values\n",
        "y = german_credit_data['Risk'].values\n",
        "X_train, X_test, y_train, y_test = train_test_split(X, y, test_size = 0.20, random_state=42)"
      ],
      "metadata": {
        "id": "gDiKTv0xBKM5"
      },
      "execution_count": null,
      "outputs": []
    },
    {
      "cell_type": "code",
      "source": [
        "#Aplicar LogisticRegressio. \n",
        "from sklearn.linear_model import LogisticRegression, LinearRegression\n",
        "from sklearn.metrics import accuracy_score, confusion_matrix, classification_report, fbeta_score\n",
        "log = LogisticRegression()\n",
        "log.fit(X_train, y_train)\n",
        "y_pred_log = log.predict(X_test)\n",
        "print(accuracy_score(y_pred_log, y_test))\n",
        "print(confusion_matrix(y_test, y_pred_log))\n",
        "print(classification_report(y_test, y_pred_log))"
      ],
      "metadata": {
        "id": "oWtmh-FoBNlU",
        "colab": {
          "base_uri": "https://localhost:8080/"
        },
        "outputId": "f3c0652b-b830-4911-ab7a-1c1b2044951b"
      },
      "execution_count": null,
      "outputs": [
        {
          "output_type": "stream",
          "name": "stdout",
          "text": [
            "0.655\n",
            "[[125  16]\n",
            " [ 53   6]]\n",
            "              precision    recall  f1-score   support\n",
            "\n",
            "           0       0.70      0.89      0.78       141\n",
            "           1       0.27      0.10      0.15        59\n",
            "\n",
            "    accuracy                           0.66       200\n",
            "   macro avg       0.49      0.49      0.47       200\n",
            "weighted avg       0.58      0.66      0.60       200\n",
            "\n"
          ]
        }
      ]
    },
    {
      "cell_type": "markdown",
      "source": [
        "### **Conclusiones**"
      ],
      "metadata": {
        "id": "Ko-aD-M9AuDE"
      }
    },
    {
      "cell_type": "markdown",
      "source": [
        "Vemos como conclusion que usando una regresion logistica sobre las variables Risk(convertida a binario), y Credit_amount podemos lograr \n",
        "una precisión de 0.73, un recall  de 0.90 y  y una puntuación f1-score de 0.8 para clasificar el riesgo \"good\" o \"0\".Sin embargo, tiene un desempeño más bajo  y al parecer poco efectivo para en clasificar el riesgo \"bad\" o 1, con una precisión de 0.48, un recall de 0.22 y una puntuación f1-score de 0.30.\n",
        "\n",
        "\n",
        "Si hacemos lo mismo con la variable \"Duration\", vemos que la regresion se vuelve menos efectiva ya que en este caso, se puede ver que el modelo tiene una precisión de 0.70 en clasificar el riesgo \"good\" o  0, un recall de 0.89 y una puntuación f1-score de 0.78., y para el segundo clasificador se baja bastante su precision para el riesgo bad o 1, con una precisión de 0.27, un recall de 0.10 y una puntuación f1-score de 0.15. \n",
        "\n",
        "\n",
        "Esto significa que el modelo de logistic regresion es bueno para predecir la clase Good o 0, pero tiene dificultades para predecir la clase bad o 1.\n",
        "\n",
        "\n",
        "Info importante\n",
        "* La precisión indica la proporción de predicciones correctas entre las predicciones totales. \n",
        "* El recall indica la proporción de ejemplos de una clase que fueron correctamente clasificados entre todos los ejemplos de esa clase. \n",
        "* La puntuación f1-score es una medida combinada de precisión y recall."
      ],
      "metadata": {
        "id": "IwHB1DvFAzHM"
      }
    },
    {
      "cell_type": "markdown",
      "source": [
        "**Contribuciones**\n",
        "*   Investigacion previa : JC Y SM\n",
        "*   Redaccion de las respuestas:  JC Y SM\n",
        "*   Desarollo del codigo: JC Y SM\n",
        "*   Participacion en el video: JC Y SM\n",
        "\n"
      ],
      "metadata": {
        "id": "EQ3Fw3JcWp9G"
      }
    }
  ]
}